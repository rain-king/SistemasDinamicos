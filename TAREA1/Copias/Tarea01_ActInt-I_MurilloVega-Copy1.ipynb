{
 "cells": [
  {
   "cell_type": "markdown",
   "metadata": {},
   "source": [
    "# Crecimiento de la bacteria _V. natriegens_ en medio de cultivo con pH de 7.85"
   ]
  },
  {
   "cell_type": "markdown",
   "metadata": {},
   "source": [
    "Supongáse que en un experimento realizado por un biólogo se recopilarón los siguientes datos del crecimiento de la población de bacterias.\n",
    "Donde \"Índice de Tiempo\" se refiere a intervalos de 16 minutos."
   ]
  },
  {
   "cell_type": "markdown",
   "metadata": {},
   "source": [
    "| Tiempo (minutos) | Índice de Tiempo | Densidad de Población |\n",
    "|------------------|------------------|-----------------------|\n",
    "| 0                | 0                | 0.028                 |\n",
    "| 16               | 1                | 0.047                 |\n",
    "| 32               | 2                | 0.082                 |\n",
    "| 48               | 3                | 0.141                 |\n",
    "| 64               | 4                | 0.240                 |\n",
    "| 80               | 5                | 0.381                 |"
   ]
  },
  {
   "cell_type": "markdown",
   "metadata": {},
   "source": [
    "##### Descripción del Experimento\n",
    "\n",
    "El biólogo propone que en un intervalo de tiempo constante (en este caso 16 minutos), una fracción de la población de bacterias se \"divide\"; como resultado de tal proceso llamado fisión binaria, una bacteria se convierte en dos bacterias. Tal supuesto será altamente preciso solo durante que las condiciones del experimento se mantengan lo suficientemente similares. Entre estas condiciones conocidas por el biólogo, que la densidad de población se mantenga bajo cierto nivel y que haya abundantes nutrientes. Con estos supuestos sobre el fénomeno, usamos la siguiente notación:\n",
    "\n",
    "##### Notación\n",
    "$t$ para denotar el intervalo de tiempo de 16 minutos en que se mide la densidad de población $B_t$; dónde $B_t$ se mide al inicio del intervalo. Así $B_t$ ha sido medido a los $t\\times 16$ minutos.\n",
    "Y la fracción $k$ de la población es el porcentaje (o número de 0 a 1) que se divide cada intervalo de tiempo. Como la densidad de población es directamente proporcional a la población, tenemos que el crecimiento de la densidad de población en sí crece con la constante $k$."
   ]
  },
  {
   "cell_type": "markdown",
   "metadata": {},
   "source": [
    "##### Ecuación Dinámica\n",
    "Así la descripción del fenómeno con nuestra notación está dada por la siguiente ecuación dinámica.\n",
    "$$\n",
    "    B_{t+1}-B_t = k B_t,\n",
    "$$\n",
    "o equivalentemente,\n",
    "$$\n",
    "    B_{t+1} = (1+k) B_t.\n",
    "$$"
   ]
  },
  {
   "cell_type": "markdown",
   "metadata": {},
   "source": [
    "Dado $B_0$ y $k$, entonces el valor de $B_n$ en el modelo es conocido:\n",
    "$$\n",
    "    B_n = (1+k)B_{n-1} = (1+k) \\left((1+k)B_{n-2}\\right) = (1+k)^2 B_{n-2} = \\ldots = (1+k)^n B_0, \\\\\n",
    "    B_n = (1+k)^n B_0.\n",
    "$$\n",
    "Esta es la solución de la ecuación dinámica."
   ]
  },
  {
   "cell_type": "markdown",
   "metadata": {},
   "source": []
  }
 ],
 "metadata": {
  "authors": [
   {
    "name": "Murillo Vega, Gustavo"
   }
  ],
  "kernelspec": {
   "display_name": "SageMath 9.4",
   "language": "sage",
   "name": "sagemath"
  },
  "language_info": {
   "codemirror_mode": {
    "name": "ipython",
    "version": 3
   },
   "file_extension": ".py",
   "mimetype": "text/x-python",
   "name": "python",
   "nbconvert_exporter": "python",
   "pygments_lexer": "ipython3",
   "version": "3.10.5"
  },
  "title": "Tarea 1, Actividades Interdisciplinarias I"
 },
 "nbformat": 4,
 "nbformat_minor": 4
}
